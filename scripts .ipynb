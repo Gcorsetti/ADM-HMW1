{
 "cells": [
  {
   "cell_type": "markdown",
   "id": "4918a71e",
   "metadata": {},
   "source": [
    "Insertion Sort - Part 1"
   ]
  },
  {
   "cell_type": "code",
   "execution_count": null,
   "id": "e7dbb624",
   "metadata": {},
   "outputs": [],
   "source": [
    "#!/bin/python3\n",
    "\n",
    "import math\n",
    "import os\n",
    "import random\n",
    "import re\n",
    "import sys\n",
    "\n",
    "#\n",
    "# Complete the 'insertionSort1' function below.\n",
    "#\n",
    "# The function accepts following parameters:\n",
    "#  1. INTEGER n\n",
    "#  2. INTEGER_ARRAY arr\n",
    "#\n",
    "\n",
    "def insertionSort1(n, arr):\n",
    "    target = arr[-1]\n",
    "    idx = n-2\n",
    "\n",
    "    while (target < arr[idx]) and (idx >= 0):\n",
    "        arr[idx+1] = arr[idx]\n",
    "        print(*arr)\n",
    "        idx -= 1\n",
    "\n",
    "    arr[idx+1] = target\n",
    "    print(*arr)\n",
    "\n",
    "if __name__ == '__main__':\n",
    "    n = int(input().strip())\n",
    "\n",
    "    arr = list(map(int, input().rstrip().split()))\n",
    "\n",
    "    insertionSort1(n, arr)\n"
   ]
  },
  {
   "cell_type": "markdown",
   "id": "e0a35c2c",
   "metadata": {},
   "source": [
    "Recursive Digit Sum"
   ]
  },
  {
   "cell_type": "code",
   "execution_count": null,
   "id": "c2f39beb",
   "metadata": {},
   "outputs": [],
   "source": [
    "#!/bin/python3\n",
    "\n",
    "import math\n",
    "import os\n",
    "import random\n",
    "import re\n",
    "import sys\n",
    "\n",
    "#\n",
    "# Complete the 'superDigit' function below.\n",
    "#\n",
    "# The function is expected to return an INTEGER.\n",
    "# The function accepts following parameters:\n",
    "#  1. STRING n\n",
    "#  2. INTEGER k\n",
    "#\n",
    "\n",
    "def digitSum(n, k):\n",
    "    x = sum(map(int, list(n)))\n",
    "    if k==1:\n",
    "        return ds(x)\n",
    "    else:\n",
    "        return ds(x*k)\n",
    "    \n",
    "def ds(x):\n",
    "    if x<10:\n",
    "        return x\n",
    "    else:\n",
    "        return ds(sum(map(int, list(str(x)))))\n",
    "\n",
    "if __name__ == \"__main__\":\n",
    "    n, k = input().strip().split(' ')\n",
    "    n, k = [str(n), int(k)]\n",
    "    result = digitSum(n, k)\n",
    "    print(result)\n",
    "#\n",
    "#\n",
    "#Actually got helped in the discussion section this is way much more readable and easy\n",
    "\n"
   ]
  },
  {
   "cell_type": "markdown",
   "id": "b760e299",
   "metadata": {},
   "source": [
    "Viral Advertising"
   ]
  },
  {
   "cell_type": "code",
   "execution_count": null,
   "id": "011a4a76",
   "metadata": {},
   "outputs": [],
   "source": [
    "#!/bin/python3\n",
    "\n",
    "import math\n",
    "import os\n",
    "import random\n",
    "import re\n",
    "import sys\n",
    "\n",
    "#\n",
    "# Complete the 'viralAdvertising' function below.\n",
    "#\n",
    "# The function is expected to return an INTEGER.\n",
    "# The function accepts INTEGER n as parameter.\n",
    "#\n",
    "\n",
    "n = int(input().strip())\n",
    "total = 2;\n",
    "liked = 2;\n",
    "for _ in range(n-1):\n",
    "    liked = liked * 3//2\n",
    "    total += liked\n",
    "print(total)\n"
   ]
  },
  {
   "cell_type": "markdown",
   "id": "fa68a738",
   "metadata": {},
   "source": [
    "Number Line Jumps"
   ]
  },
  {
   "cell_type": "code",
   "execution_count": null,
   "id": "9eb9a584",
   "metadata": {},
   "outputs": [],
   "source": [
    "#!/bin/python3\n",
    "\n",
    "import math\n",
    "import os\n",
    "import random\n",
    "import re\n",
    "import sys\n",
    "\n",
    "#\n",
    "# Complete the 'kangaroo' function below.\n",
    "#\n",
    "# The function is expected to return a STRING.\n",
    "# The function accepts following parameters:\n",
    "#  1. INTEGER x1\n",
    "#  2. INTEGER v1\n",
    "#  3. INTEGER x2\n",
    "#  4. INTEGER v2\n",
    "\n",
    "\n",
    "def kangaroo(x1, v1, x2, v2):\n",
    "    return (\"YES\" if (x2 - x1) * (v2 - v1) < 0 and (x2 - x1) % (v2 - v1) == 0 else \"NO\")\n",
    "\n",
    "if __name__ == '__main__':\n",
    "    fptr = open(os.environ['OUTPUT_PATH'], 'w')\n",
    "\n",
    "    first_multiple_input = input().rstrip().split()\n",
    "\n",
    "    x1 = int(first_multiple_input[0])\n",
    "\n",
    "    v1 = int(first_multiple_input[1])\n",
    "\n",
    "    x2 = int(first_multiple_input[2])\n",
    "\n",
    "    v2 = int(first_multiple_input[3])\n",
    "\n",
    "    result = kangaroo(x1, v1, x2, v2)\n",
    "\n",
    "    fptr.write(result + '\\n')\n",
    "\n",
    "    fptr.close()\n"
   ]
  },
  {
   "cell_type": "markdown",
   "id": "28e03019",
   "metadata": {},
   "source": [
    "Birthday Cake Candles"
   ]
  },
  {
   "cell_type": "code",
   "execution_count": null,
   "id": "c756219a",
   "metadata": {},
   "outputs": [],
   "source": [
    "#!/bin/python3\n",
    "\n",
    "import math\n",
    "import os\n",
    "import random\n",
    "import re\n",
    "import sys\n",
    "\n",
    "n = int(input().strip())\n",
    "height = [int(height_temp) for height_temp in input().strip().split(' ')]\n",
    "\n",
    "print(height.count(max(height)))\n"
   ]
  },
  {
   "cell_type": "markdown",
   "id": "3451afbd",
   "metadata": {},
   "source": [
    "Nested Lists"
   ]
  },
  {
   "cell_type": "code",
   "execution_count": null,
   "id": "2a8ab282",
   "metadata": {},
   "outputs": [],
   "source": [
    "if __name__ == '__main__':\n",
    "    #for _ in range(int(input())):\n",
    "     #   name = input()\n",
    "      #  score = float(input())\n",
    " students = []\n",
    " for _ in range(0,int(input())):\n",
    "    students.append([input(), float(input())])\n",
    "values = []          \n",
    "for i in students:\n",
    "    values.append(i[1])\n",
    "values.sort()\n",
    "second_lowest = values[1]\n",
    "names=[]\n",
    "for i in students:\n",
    "    if i[1] == second_lowest:\n",
    "        names.append(i[0])\n",
    "names.sort()\n",
    "for i in names:\n",
    "    print (i)\n"
   ]
  },
  {
   "cell_type": "markdown",
   "id": "5df962be",
   "metadata": {},
   "source": [
    "Linear Algebra"
   ]
  },
  {
   "cell_type": "code",
   "execution_count": null,
   "id": "4b19b5d0",
   "metadata": {},
   "outputs": [],
   "source": [
    "import numpy\n",
    "n=int(input())\n",
    "a=numpy.array([input().split() for _ in range(n)],float)\n",
    "numpy.set_printoptions(legacy='1.13') \n",
    "print(numpy.linalg.det(a))\n"
   ]
  },
  {
   "cell_type": "markdown",
   "id": "2f2a8556",
   "metadata": {},
   "source": [
    "Polynomials"
   ]
  },
  {
   "cell_type": "code",
   "execution_count": null,
   "id": "95d730de",
   "metadata": {},
   "outputs": [],
   "source": [
    "import numpy\n",
    "n = list(map(float,input().split()))\n",
    "m = input()\n",
    "print(numpy.polyval(n,int(m)))\n"
   ]
  },
  {
   "cell_type": "markdown",
   "id": "3d334dae",
   "metadata": {},
   "source": [
    "Inner and Outer"
   ]
  },
  {
   "cell_type": "code",
   "execution_count": null,
   "id": "300abdec",
   "metadata": {},
   "outputs": [],
   "source": [
    "import numpy as np\n",
    "A = np.array(input().split(), int)\n",
    "B = np.array(input().split(), int)\n",
    "print(np.inner(A,B), np.outer(A,B), sep='\\n')\n",
    "\n"
   ]
  },
  {
   "cell_type": "markdown",
   "id": "40d25da1",
   "metadata": {},
   "source": [
    "Dot and Cross"
   ]
  },
  {
   "cell_type": "code",
   "execution_count": null,
   "id": "2cbb1f06",
   "metadata": {},
   "outputs": [],
   "source": [
    "import numpy\n",
    "\n",
    "a=int(input())\n",
    "\n",
    "arr1=numpy.array([list(map(int,input().split())) for _ in range(a)])\n",
    "\n",
    "arr2=numpy.array([list(map(int,input().split())) for _ in range(a)])\n",
    "\n",
    "print(numpy.dot(arr1,arr2))\n",
    "\n"
   ]
  },
  {
   "cell_type": "markdown",
   "id": "784d3c28",
   "metadata": {},
   "source": [
    "Mean, Var, and Std"
   ]
  },
  {
   "cell_type": "code",
   "execution_count": null,
   "id": "a0aaa9fd",
   "metadata": {},
   "outputs": [],
   "source": [
    "import numpy \n",
    "\n",
    "array = []\n",
    "n, m = map(int, input().split())\n",
    "for _ in range(n): array.append(list(map(int, input().split())))\n",
    "array = numpy.array(array)\n",
    "print(numpy.mean(array, axis=1))\n",
    "print(numpy.var(array, axis=0))\n",
    "print(round(numpy.std(array), 11))"
   ]
  },
  {
   "cell_type": "markdown",
   "id": "65b44dc3",
   "metadata": {},
   "source": [
    "Min and Max"
   ]
  },
  {
   "cell_type": "code",
   "execution_count": null,
   "id": "41acab72",
   "metadata": {},
   "outputs": [],
   "source": [
    "import numpy\n",
    "\n",
    "arr=[]\n",
    "n,m=map(int,input().split())\n",
    "for row in range(n):\n",
    "    my_arr=list(map(int,input().split()))\n",
    "    arr.append(my_arr)\n",
    "my_array=numpy.array(arr)\n",
    "result=numpy.min(my_array, axis = 1)\n",
    "print(max(result))\n",
    "\n",
    "\n"
   ]
  },
  {
   "cell_type": "markdown",
   "id": "bea3c142",
   "metadata": {},
   "source": [
    "Sum and Prod"
   ]
  },
  {
   "cell_type": "code",
   "execution_count": null,
   "id": "ce6d93ee",
   "metadata": {},
   "outputs": [],
   "source": [
    "import numpy\n",
    "N,M = input().split()\n",
    "\n",
    "lst = []\n",
    "for i in range(int(N)):\n",
    "    lst.append(input().split())\n",
    "\n",
    "array = numpy.array(lst, int)\n",
    "row_sum = numpy.sum(array, axis = 0)\n",
    "print(numpy.prod(row_sum))\n"
   ]
  },
  {
   "cell_type": "markdown",
   "id": "e6a6f457",
   "metadata": {},
   "source": [
    "Floor, Ceil and Rint"
   ]
  },
  {
   "cell_type": "code",
   "execution_count": null,
   "id": "f315902b",
   "metadata": {},
   "outputs": [],
   "source": [
    "import numpy\n",
    "\n",
    "numpy.set_printoptions(sign=' ')\n",
    "\n",
    "a = numpy.array(input().split(),float)\n",
    "\n",
    "print(numpy.floor(a))\n",
    "print(numpy.ceil(a))\n",
    "print(numpy.rint(a))\n",
    "\n"
   ]
  },
  {
   "cell_type": "markdown",
   "id": "0418521e",
   "metadata": {},
   "source": [
    "Array Mathematics"
   ]
  },
  {
   "cell_type": "code",
   "execution_count": null,
   "id": "5f45fac4",
   "metadata": {},
   "outputs": [],
   "source": [
    "import numpy as np\n",
    "n,m = map(int,input().split())\n",
    "\n",
    "a=np.zeros((n,m),int)\n",
    "b=np.zeros((n,m),int)\n",
    "for i in range(n):\n",
    "  a[i]=np.array(input().split(),int)\n",
    "for i in range(n):\n",
    "  b[i]=np.array(input().split(),int)  \n",
    "\n",
    "print(a+b)\n",
    "print(a-b)\n",
    "print(a*b)\n",
    "print(np.array(a/b,int))\n",
    "print(a%b)\n",
    "print(a**b)\n",
    "\n",
    "\n"
   ]
  },
  {
   "cell_type": "markdown",
   "id": "b17e0e30",
   "metadata": {},
   "source": [
    "Eye and Identity"
   ]
  },
  {
   "cell_type": "code",
   "execution_count": null,
   "id": "160ac734",
   "metadata": {},
   "outputs": [],
   "source": [
    "import numpy as np\n",
    "np.set_printoptions(legacy='1.13')\n",
    "n,m = map(int,input().split())\n",
    "print(np.eye(n,m))"
   ]
  },
  {
   "cell_type": "markdown",
   "id": "55eda4e8",
   "metadata": {},
   "source": [
    "Zeros and Ones"
   ]
  },
  {
   "cell_type": "code",
   "execution_count": null,
   "id": "6ae1d196",
   "metadata": {},
   "outputs": [],
   "source": [
    "import numpy as np\n",
    "nums = list(map(int, input().split()))\n",
    "print (np.zeros(nums, dtype = np.int))\n",
    "print (np.ones(nums, dtype = np.int))\n"
   ]
  },
  {
   "cell_type": "markdown",
   "id": "36a8856a",
   "metadata": {},
   "source": [
    "Concatenate"
   ]
  },
  {
   "cell_type": "code",
   "execution_count": null,
   "id": "5d17a3f6",
   "metadata": {},
   "outputs": [],
   "source": [
    "import numpy as np\n",
    "a, b, c = map(int,input().split())\n",
    "arrA = np.array([input().split() for _ in range(a)],int)\n",
    "arrB = np.array([input().split() for _ in range(b)],int)\n",
    "print(np.concatenate((arrA, arrB), axis = 0))"
   ]
  },
  {
   "cell_type": "markdown",
   "id": "7c42cd49",
   "metadata": {},
   "source": [
    "Transpose and Flatten"
   ]
  },
  {
   "cell_type": "code",
   "execution_count": null,
   "id": "3f52bf4d",
   "metadata": {},
   "outputs": [],
   "source": [
    "import numpy\n",
    "n, m = map(int, input().split())\n",
    "arr = numpy.array([input().strip().split() for _ in range(n)], int)\n",
    "print (arr.transpose())\n",
    "print (arr.flatten())"
   ]
  },
  {
   "cell_type": "markdown",
   "id": "b2ffe229",
   "metadata": {},
   "source": [
    "Shape and Reshape"
   ]
  },
  {
   "cell_type": "code",
   "execution_count": null,
   "id": "58861fa0",
   "metadata": {},
   "outputs": [],
   "source": [
    "import numpy\n",
    "\n",
    "arr = numpy.array(input().split(),int)\n",
    "changed_arr = numpy.reshape(arr,(3,3))\n",
    "print(changed_arr)"
   ]
  },
  {
   "cell_type": "markdown",
   "id": "27e199a2",
   "metadata": {},
   "source": [
    "Arrays"
   ]
  },
  {
   "cell_type": "code",
   "execution_count": null,
   "id": "9b3e5e0b",
   "metadata": {},
   "outputs": [],
   "source": [
    "def arrays(arr):\n",
    "    return(numpy.array(arr[::-1], float))\n",
    "    # complete this function\n",
    "    # use numpy.array"
   ]
  },
  {
   "cell_type": "markdown",
   "id": "6948e8cc",
   "metadata": {},
   "source": [
    "Decorators 2 - Name Directory"
   ]
  },
  {
   "cell_type": "code",
   "execution_count": null,
   "id": "fda5c1f4",
   "metadata": {},
   "outputs": [],
   "source": [
    "def person_lister(f):\n",
    "    def inner(people):\n",
    "        decorated_results = sorted(people, key=operator.itemgetter(2))\n",
    "        return [f(p) for p in decorated_results]\n",
    "    return inner"
   ]
  },
  {
   "cell_type": "markdown",
   "id": "d04e5b50",
   "metadata": {},
   "source": [
    "Standardize Mobile Number Using Decorators"
   ]
  },
  {
   "cell_type": "code",
   "execution_count": null,
   "id": "224e0b87",
   "metadata": {},
   "outputs": [],
   "source": [
    "def wrapper(f):\n",
    "    def fun(l):\n",
    "        decorated_l = ['+91 {} {}'.format(n[-10: -5], n[-5:]) for n in l]\n",
    "        return f(decorated_l)\n",
    "    return fun"
   ]
  },
  {
   "cell_type": "markdown",
   "id": "3a16003d",
   "metadata": {},
   "source": [
    "XML2 - Find the Maximum Depth"
   ]
  },
  {
   "cell_type": "code",
   "execution_count": null,
   "id": "1eb061c9",
   "metadata": {},
   "outputs": [],
   "source": [
    "maxdepth = 0\n",
    "def depth(elem, level):\n",
    "    global maxdepth\n",
    "    # your code goes here\n",
    "    level += 1\n",
    "    if level >= maxdepth:\n",
    "        maxdepth = level\n",
    "    for child in elem:\n",
    "        depth(child, level)"
   ]
  },
  {
   "cell_type": "markdown",
   "id": "e0903e6a",
   "metadata": {},
   "source": [
    "XML 1 - Find the Score"
   ]
  },
  {
   "cell_type": "code",
   "execution_count": null,
   "id": "27039336",
   "metadata": {},
   "outputs": [],
   "source": [
    "def get_attr_number(node):\n",
    "    out=len(node.attrib)\n",
    "    return out+sum((get_attr_number(child) for child in node))"
   ]
  },
  {
   "cell_type": "markdown",
   "id": "9354d117",
   "metadata": {},
   "source": [
    "Re.start() & Re.end()"
   ]
  },
  {
   "cell_type": "code",
   "execution_count": null,
   "id": "7f88468f",
   "metadata": {},
   "outputs": [],
   "source": [
    "# Enter your code here. Read input from STDIN. Print output to STDOUT\n",
    "import re\n",
    "string = input()\n",
    "pattern = input()\n",
    "m = re.search(r'(['+pattern+'])',string)\n",
    "print('\\n'.join((m.start(),m.end()) or (-1,-1)))"
   ]
  },
  {
   "cell_type": "markdown",
   "id": "499e7fdf",
   "metadata": {},
   "source": [
    "Validating Postal Codes"
   ]
  },
  {
   "cell_type": "code",
   "execution_count": null,
   "id": "ef347ed1",
   "metadata": {},
   "outputs": [],
   "source": [
    "regex_integer_in_range = r\"^[1-9][0-9]{5}$\"\t# Do not delete 'r'.\n",
    "regex_alternating_repetitive_digit_pair = r\"(\\d)(?=.\\1)\"\t# Do not delete 'r'."
   ]
  },
  {
   "cell_type": "markdown",
   "id": "46313e12",
   "metadata": {},
   "source": [
    "Validating Credit Card Numbers"
   ]
  },
  {
   "cell_type": "code",
   "execution_count": null,
   "id": "c5120e7e",
   "metadata": {},
   "outputs": [],
   "source": [
    "# Enter your code here. Read input from STDIN. Print output to STDOUT\n",
    "import re\n",
    "\n",
    "card_val = r\"^[456]\\d{3}(-\\d{4}){3}$|^[456]\\d{15}$\"\n",
    "no_rep = r\"(\\d)(-?\\1){3}\"\n",
    "for i in range(int(input())):\n",
    "    card = input()\n",
    "    print(\"Valid\" if (re.match(card_val, card) and not re.search(no_rep, card)) else \"Invalid\")"
   ]
  },
  {
   "cell_type": "markdown",
   "id": "24c8be52",
   "metadata": {},
   "source": [
    "Validating UID"
   ]
  },
  {
   "cell_type": "code",
   "execution_count": null,
   "id": "8327d203",
   "metadata": {},
   "outputs": [],
   "source": [
    "# Enter your code here. Read input from STDIN. Print output to STDOUT\n",
    "import re\n",
    "\n",
    "no_repeats = r\"(?!.*(.).*\\1)\"\n",
    "two_or_more_upper = r\"(.*[A-Z]){2,}\"\n",
    "three_or_more_digits = r\"(.*\\d){3,}\"\n",
    "ten_alphanumerics = r\"[a-zA-Z0-9]{10}\"\n",
    "filters = no_repeats, two_or_more_upper, three_or_more_digits, ten_alphanumerics\n",
    "\n",
    "for uid in [input() for _ in range(int(input()))]:\n",
    "    if all(re.match(f, uid) for f in filters):\n",
    "        print(\"Valid\")\n",
    "    else:\n",
    "        print(\"Invalid\")"
   ]
  },
  {
   "cell_type": "markdown",
   "id": "d0d6d793",
   "metadata": {},
   "source": [
    "Detect HTML Tags, Attributes and Attribute Values"
   ]
  },
  {
   "cell_type": "code",
   "execution_count": null,
   "id": "5bc1a40f",
   "metadata": {},
   "outputs": [],
   "source": [
    "# Enter your code here. Read input from STDIN. Print output to STDOUT\n",
    "from html.parser import HTMLParser\n",
    "\n",
    "class MyHTMLParser(HTMLParser):\n",
    "    def handle_starttag(self, tag, attrs):\n",
    "        print(tag)\n",
    "        for attr in attrs:\n",
    "            print(\"->\", attr[0], \">\", attr[1]) #The same as HTML part 1\n",
    "\n",
    "parser = MyHTMLParser()\n",
    "\n",
    "for i in range(int(input())):\n",
    "    parser.feed(input())"
   ]
  },
  {
   "cell_type": "markdown",
   "id": "632f71f5",
   "metadata": {},
   "source": [
    "HTML Parser - Part 2"
   ]
  },
  {
   "cell_type": "code",
   "execution_count": null,
   "id": "b039569a",
   "metadata": {},
   "outputs": [],
   "source": [
    "from html.parser import HTMLParser\n",
    "\n",
    "class MyHTMLParser(HTMLParser):\n",
    "    \n",
    "    def handle_comment(self, comment):\n",
    "        if '\\n' in comment:\n",
    "            print('>>> Multi-line Comment')\n",
    "        else:\n",
    "            print('>>> Single-line Comment')\n",
    "            \n",
    "        print(comment)\n",
    "    \n",
    "    def handle_data(self, data):\n",
    "        if data == '\\n': return\n",
    "        print('>>> Data')\n",
    "        print(data)\n",
    "  \n",
    "  \n",
    "html = \"\"       \n",
    "for i in range(int(input())):\n",
    "    html += input().rstrip()\n",
    "    html += '\\n'\n",
    "    \n",
    "parser = MyHTMLParser()\n",
    "parser.feed(html)\n",
    "parser.close()"
   ]
  },
  {
   "cell_type": "markdown",
   "id": "49f40aa0",
   "metadata": {},
   "source": [
    "HTML Parser - Part 1"
   ]
  },
  {
   "cell_type": "code",
   "execution_count": null,
   "id": "2e5dc8ba",
   "metadata": {},
   "outputs": [],
   "source": [
    "# Enter your code here. Read input from STDIN. Print output to STDOUT #checked on python official guide to understand \n",
    "from html.parser import HTMLParser\n",
    "class MyHTMLParser(HTMLParser):\n",
    "    def handle_starttag(self, tag, attrs):        \n",
    "        print ('Start :',tag)\n",
    "        for ele in attrs:\n",
    "            print ('->',ele[0],'>',ele[1])\n",
    "            \n",
    "    def handle_endtag(self, tag):\n",
    "        print ('End   :',tag)\n",
    "        \n",
    "    def handle_startendtag(self, tag, attrs):\n",
    "        print ('Empty :',tag)\n",
    "        for ele in attrs:\n",
    "            print ('->',ele[0],'>',ele[1])\n",
    "parser = MyHTMLParser()\n",
    "for _ in range(int(input())):\n",
    "    parser.feed(input())\n"
   ]
  },
  {
   "cell_type": "markdown",
   "id": "d5708be4",
   "metadata": {},
   "source": [
    "Hex Color Code"
   ]
  },
  {
   "cell_type": "code",
   "execution_count": null,
   "id": "c58b5be7",
   "metadata": {},
   "outputs": [],
   "source": [
    "# Enter your code here. Read input from STDIN. Print output to STDOUT\n",
    "import re\n",
    "N = int(input())\n",
    "for _ in range(N):\n",
    "    line = input().strip()\n",
    "    codes = [j for j in re.findall('[\\s:](#[a-f0-9]{6}|#[a-f0-9]{3})[\\s:;,)]', line, re.I)]\n",
    "    for code in codes:\n",
    "        print (code)\n",
    "#looked at discussion for an error that I made "
   ]
  },
  {
   "cell_type": "markdown",
   "id": "4ddb71e0",
   "metadata": {},
   "source": [
    "Validating and Parsing Email Addresses"
   ]
  },
  {
   "cell_type": "code",
   "execution_count": null,
   "id": "b9350804",
   "metadata": {},
   "outputs": [],
   "source": [
    "# Enter your code here. Read input from STDIN. Print output to STDOUT\n",
    "\n",
    "import re\n",
    "for i in range(int(input())):\n",
    "    name, email = input().split(' ')\n",
    "    m = re.match(r'<[A-Za-z](\\w|-|\\.|_)+@[A-Za-z]+\\.[A-Za-z]{1,3}>',email)\n",
    "    \n",
    "    if m:\n",
    "        print(name,email)"
   ]
  },
  {
   "cell_type": "markdown",
   "id": "28a8ccaa",
   "metadata": {},
   "source": [
    "Validating phone numbers"
   ]
  },
  {
   "cell_type": "code",
   "execution_count": null,
   "id": "3d21a8ec",
   "metadata": {},
   "outputs": [],
   "source": [
    "# Enter your code here. Read input from STDIN. Print output to STDOUT\n",
    "import re\n",
    "for i in range(int(input())):\n",
    "    m = re.match(r'^[789][\\d]{9}$',input())\n",
    "    if m :\n",
    "        print('YES')\n",
    "    else:\n",
    "        print('NO')"
   ]
  },
  {
   "cell_type": "markdown",
   "id": "24b5684f",
   "metadata": {},
   "source": [
    "Validating Roman Numerals"
   ]
  },
  {
   "cell_type": "code",
   "execution_count": null,
   "id": "53453fab",
   "metadata": {},
   "outputs": [],
   "source": [
    "regex_pattern =r'^M{,3} (C(D|M) | D?C{,3}) (X(L|C)|L?X{,3}) (I(X|V)|(X|V)?I{,3})$'"
   ]
  },
  {
   "cell_type": "markdown",
   "id": "e46e0bdb",
   "metadata": {},
   "source": [
    "Regex Substitution"
   ]
  },
  {
   "cell_type": "code",
   "execution_count": null,
   "id": "f4aa3b7c",
   "metadata": {},
   "outputs": [],
   "source": [
    "# Enter your code here. Read input from STDIN. Print output to STDOUT\n",
    "import re\n",
    "N = int(input())\n",
    "\n",
    "for i in range(N):\n",
    "    print (re.sub(r'(?<= )(&&|\\|\\|)(?= )', lambda x: 'and' if x.group() == '&&' else 'or', input()))\n",
    "#saw the discussion in here"
   ]
  },
  {
   "cell_type": "markdown",
   "id": "1e26cae3",
   "metadata": {},
   "source": [
    "Re.findall() & Re.finditer()"
   ]
  },
  {
   "cell_type": "code",
   "execution_count": null,
   "id": "f8999b2b",
   "metadata": {},
   "outputs": [],
   "source": [
    "# Enter your code here. Read input from STDIN. Print output to STDOUT\n",
    "import re\n",
    "consonants = 'qwrtypsdfghjklzxcvbnm'\n",
    "vowels = 'aeiou'\n",
    "match = re.findall(r'(?<=['+consonants+'])(['+vowels+']{2,})(?=['+consonants+'])',input(),flags = re.I)\n",
    "print('\\n'.join(match or ['-1']))\n",
    "#matching in the input using positive lookbehind and lookahead  to look after vowels grouped by 2 or more ignoring case sensitive\n"
   ]
  },
  {
   "cell_type": "markdown",
   "id": "5b34d02f",
   "metadata": {},
   "source": [
    "Group(), Groups() & Groupdict()"
   ]
  },
  {
   "cell_type": "code",
   "execution_count": null,
   "id": "f40295ac",
   "metadata": {},
   "outputs": [],
   "source": [
    "# Enter your code here. Read input from STDIN. Print output to STDOUT\n",
    "import re\n",
    "m = re.search(r\"([a-z0-9])\\1+\", input())\n",
    "print(m.group(1) if m else -1)\n",
    "#search in the input for any group of case or digit. \\1 stands for the very first group encountered "
   ]
  },
  {
   "cell_type": "markdown",
   "id": "772ba415",
   "metadata": {},
   "source": [
    "Re.split()"
   ]
  },
  {
   "cell_type": "code",
   "execution_count": null,
   "id": "0b9fefa9",
   "metadata": {},
   "outputs": [],
   "source": [
    "regex_pattern = r\"[.,]+\"\t# Do not delete 'r'."
   ]
  },
  {
   "cell_type": "markdown",
   "id": "e35a0a73",
   "metadata": {},
   "source": [
    "Detect Floating Point Number"
   ]
  },
  {
   "cell_type": "code",
   "execution_count": null,
   "id": "93bddcbf",
   "metadata": {},
   "outputs": [],
   "source": [
    "# Enter your code here. Read input from STDIN. Print output to STDOUT\n",
    "import re\n",
    "\n",
    "m = int(input())\n",
    "for i in range(m):\n",
    "    c = input()\n",
    "    print (bool(re.match(r\"^[-+]?[0-9]*\\.[0-9]+$\",c)))\n",
    "#where \"^[-+]? means it can start with - or +\n",
    "#[0-9]* means it (can) has a digit 0-9 multiple times (even 0)\n",
    "#\\. is to indicate a literal dot\n",
    "#[0-9]+ means after this there should be at least one digit 0-9 #$ ends the expression"
   ]
  },
  {
   "cell_type": "markdown",
   "id": "b66b3561",
   "metadata": {},
   "source": [
    "Map and Lambda Function"
   ]
  },
  {
   "cell_type": "code",
   "execution_count": null,
   "id": "cfd5370a",
   "metadata": {},
   "outputs": [],
   "source": [
    "cube = lambda x: x**3 \n",
    "\n",
    "def fibonacci(n):\n",
    "    result=[0,1]\n",
    "    [result.append(result[i-2]+result[i-1]) for i in range(2,n)]\n",
    "    return result[0:n]"
   ]
  },
  {
   "cell_type": "markdown",
   "id": "ee25d59e",
   "metadata": {},
   "source": [
    "ginortS"
   ]
  },
  {
   "cell_type": "code",
   "execution_count": null,
   "id": "a9c404cd",
   "metadata": {},
   "outputs": [],
   "source": [
    "# Enter your code here. Read input from STDIN. Print output to STDOUT\n",
    "n=input()\n",
    "l = []\n",
    "u = []\n",
    "o = []\n",
    "e = []\n",
    "for i in n:\n",
    "    if i.islower():\n",
    "        l.append(i)\n",
    "    elif i.isupper():\n",
    "        u.append(i)\n",
    "    elif i.isdigit():\n",
    "        if int(i)%2 == 0:\n",
    "            e.append(i)\n",
    "        elif int(i)%2 != 0:\n",
    "            o.append(i)\n",
    "a =sorted(l)+sorted(u)+sorted(o)+sorted(e)\n",
    "for i in a:\n",
    "    print(i,end = \"\")\n"
   ]
  },
  {
   "cell_type": "markdown",
   "id": "6efa0c50",
   "metadata": {},
   "source": [
    "Athlete Sort"
   ]
  },
  {
   "cell_type": "code",
   "execution_count": null,
   "id": "558344ed",
   "metadata": {},
   "outputs": [],
   "source": [
    "#!/bin/python3\n",
    "\n",
    "import math\n",
    "import os\n",
    "import random\n",
    "import re\n",
    "import sys\n",
    "    \n",
    "n, m = map(int, input().split())\n",
    "nums = [list(map(int, input().split())) for i in range(n)]\n",
    "k = int(input())\n",
    "nums.sort(key=lambda x: x[k])\n",
    "\n",
    "for line in nums:\n",
    "    print(*line)\n"
   ]
  },
  {
   "cell_type": "markdown",
   "id": "13440471",
   "metadata": {},
   "source": [
    "Zipped!"
   ]
  },
  {
   "cell_type": "code",
   "execution_count": null,
   "id": "f5c0f019",
   "metadata": {},
   "outputs": [],
   "source": [
    "# Enter your code here. Read input from STDIN. Print output to STDOUT\n",
    "N,X = map(int, input().split())\n",
    "scores = [map(float, input().split()) for _ in range(X)]\n",
    "\n",
    "[print(sum(student)/X) for student in zip(*scores)]"
   ]
  },
  {
   "cell_type": "markdown",
   "id": "91ecd2af",
   "metadata": {},
   "source": [
    "Exceptions"
   ]
  },
  {
   "cell_type": "code",
   "execution_count": null,
   "id": "28dadb33",
   "metadata": {},
   "outputs": [],
   "source": [
    "# Enter your code here. Read input from STDIN. Print output to STDOUT\n",
    "for i in range(int(input())):\n",
    "    try:\n",
    "        a,b=map(int,input().split())\n",
    "        print(a//b)\n",
    "    except Exception as e:\n",
    "        print(\"Error Code:\",e)"
   ]
  },
  {
   "cell_type": "markdown",
   "id": "16d19b1e",
   "metadata": {},
   "source": [
    "Time Delta"
   ]
  },
  {
   "cell_type": "code",
   "execution_count": null,
   "id": "ebf09d97",
   "metadata": {},
   "outputs": [],
   "source": [
    "#!/bin/python3\n",
    "\n",
    "import math\n",
    "import os\n",
    "import random\n",
    "import re\n",
    "import sys\n",
    "import datetime\n",
    "# Complete the time_delta function below.\n",
    "def time_delta(t1, t2):\n",
    "    first = datetime.datetime.strptime(t1,'%a %d %b %Y %H:%M:%S %z')\n",
    "    second = datetime.datetime.strptime(t2,'%a %d %b %Y %H:%M:%S %z')\n",
    "    return str(abs(int((first-second).total_seconds())))\n",
    "\n",
    "\n",
    "if __name__ == '__main__':\n",
    "    fptr = open(os.environ['OUTPUT_PATH'], 'w')\n",
    "\n",
    "    t = int(input())\n",
    "\n",
    "    for t_itr in range(t):\n",
    "        t1 = input()\n",
    "\n",
    "        t2 = input()\n",
    "\n",
    "        delta = time_delta(t1, t2)\n",
    "\n",
    "        fptr.write(delta + '\\n')\n",
    "\n",
    "    fptr.close()\n"
   ]
  },
  {
   "cell_type": "markdown",
   "id": "01ba9ca8",
   "metadata": {},
   "source": [
    "Calendar Module"
   ]
  },
  {
   "cell_type": "code",
   "execution_count": null,
   "id": "38d28643",
   "metadata": {},
   "outputs": [],
   "source": [
    "# Enter your code here. Read input from STDIN. Print output to STDOUT\n",
    "import calendar\n",
    "m, d, y = map(int, input().split())\n",
    "print(calendar.day_name[calendar.weekday(y, m, d)].upper())"
   ]
  },
  {
   "cell_type": "markdown",
   "id": "7c694cc9",
   "metadata": {},
   "source": [
    "Company Logo"
   ]
  },
  {
   "cell_type": "code",
   "execution_count": null,
   "id": "57b10f94",
   "metadata": {},
   "outputs": [],
   "source": [
    "#!/bin/python3\n",
    "\n",
    "import math\n",
    "import os\n",
    "import random\n",
    "import re\n",
    "import sys\n",
    "import operator\n",
    "from collections import OrderedDict\n",
    "\n",
    "\n",
    "\n",
    "if __name__ == '__main__':\n",
    "    s = input()\n",
    "d = OrderedDict()\n",
    "for i in s:\n",
    "    d[i]=s.count(i)\n",
    "sorted_d = dict( sorted(d.items(), key=operator.itemgetter(1),reverse=True))\n",
    "l = list(sorted_d)\n",
    "for i in range(3):\n",
    "    print(l[i],str(sorted_d[l[i]]))\n"
   ]
  },
  {
   "cell_type": "markdown",
   "id": "3a317bc9",
   "metadata": {},
   "source": [
    "Piling Up!"
   ]
  },
  {
   "cell_type": "code",
   "execution_count": null,
   "id": "8fa0ed45",
   "metadata": {},
   "outputs": [],
   "source": [
    "# Enter your code here. Read input from STDIN. Print output to STDOUT\n",
    "for t in range(int(input())):\n",
    "    input()\n",
    "    l = [int(i) for i in input().split()]\n",
    "    min_list = l.index(min(l))\n",
    "    left = l[:min_list]\n",
    "    right = l[min_list+1:]\n",
    "    if left == sorted(left, reverse=True) and right == sorted(right):\n",
    "        print(\"Yes\")\n",
    "    else:\n",
    "        print(\"No\")\n",
    "    #saw the idea of comparing the left and right lists on the discussion"
   ]
  },
  {
   "cell_type": "markdown",
   "id": "3b113fa1",
   "metadata": {},
   "source": [
    "Collections.deque()"
   ]
  },
  {
   "cell_type": "code",
   "execution_count": null,
   "id": "ba4e4287",
   "metadata": {},
   "outputs": [],
   "source": [
    "# Enter your code here. Read input from STDIN. Print output to STDOUT\n",
    "from collections import deque\n",
    "d = deque()\n",
    "for i in range(int(input())):\n",
    "    c = input().split()\n",
    "    if c[0]==\"append\":\n",
    "        d.append(c[1])\n",
    "    elif c[0]==\"appendleft\":\n",
    "        d.appendleft(c[1])\n",
    "    elif c[0]==\"pop\":\n",
    "        d.pop()\n",
    "    elif c[0]==\"popleft\":\n",
    "        d.popleft()\n",
    "print(*d)"
   ]
  },
  {
   "cell_type": "markdown",
   "id": "0a11e747",
   "metadata": {},
   "source": [
    "Word Order"
   ]
  },
  {
   "cell_type": "code",
   "execution_count": null,
   "id": "c5df38a4",
   "metadata": {},
   "outputs": [],
   "source": [
    "# Enter your code here. Read input from STDIN. Print output to STDOUT\n",
    "words = dict()\n",
    "\n",
    "for _ in range(int(input())):\n",
    "    word = input()\n",
    "    words.setdefault(word, 0)\n",
    "    words[word] += 1\n",
    "   \n",
    "print(len(words))\n",
    "print(*words.values())"
   ]
  },
  {
   "cell_type": "markdown",
   "id": "35793bfd",
   "metadata": {},
   "source": [
    "Collections.OrderedDict()"
   ]
  },
  {
   "cell_type": "code",
   "execution_count": null,
   "id": "eaaa03bd",
   "metadata": {},
   "outputs": [],
   "source": [
    "# Enter your code here. Read input from STDIN. Print output to STDOUT\n",
    "from collections import OrderedDict\n",
    "N = int(input())\n",
    "d = OrderedDict()\n",
    "for _ in range(N):\n",
    "    item, price = input().rsplit(' ', 1)\n",
    "    d[item] = d.get(item, 0) + int(price)\n",
    "[print(item, d[item]) for item in d]"
   ]
  },
  {
   "cell_type": "markdown",
   "id": "d630d2b8",
   "metadata": {},
   "source": [
    "Collections.namedtuple()"
   ]
  },
  {
   "cell_type": "code",
   "execution_count": null,
   "id": "717b9619",
   "metadata": {},
   "outputs": [],
   "source": [
    "# Enter your code here. Read input from STDIN. Print output to STDOUT\n",
    "from collections import namedtuple\n",
    "N = int(input())\n",
    "fields = input().split()\n",
    "\n",
    "total = 0\n",
    "for i in range(N):\n",
    "    students = namedtuple('student',fields)\n",
    "    field1, field2, field3,field4 = input().split()\n",
    "    student = students(field1,field2,field3,field4)\n",
    "    total += int(student.MARKS)\n",
    "print('{:.2f}'.format(total/N))"
   ]
  },
  {
   "cell_type": "markdown",
   "id": "41e3b559",
   "metadata": {},
   "source": [
    "DefaultDict Tutorial"
   ]
  },
  {
   "cell_type": "code",
   "execution_count": null,
   "id": "fded9d08",
   "metadata": {},
   "outputs": [],
   "source": [
    "# Enter your code here. Read input from STDIN. Print output to STDOUT\n",
    "from collections import defaultdict\n",
    "n_m = input().split()\n",
    "l1,l2 = [],[]\n",
    "for i in range(int(n_m[0])):\n",
    "    l1.append(input())\n",
    "for i in range(int(n_m[1])):\n",
    "    l2.append(input())\n",
    "\n",
    "d = defaultdict(list)\n",
    "for i in range(int(n_m[0])):\n",
    "    d[l1[i]].append(i+1)\n",
    "\n",
    "for i in l2:    \n",
    "    if i in d:\n",
    "        print(*d[i])\n",
    "    else:\n",
    "        print(-1)"
   ]
  },
  {
   "cell_type": "markdown",
   "id": "b5ab0e2f",
   "metadata": {},
   "source": [
    "collections.Counter()"
   ]
  },
  {
   "cell_type": "code",
   "execution_count": null,
   "id": "eb90dddb",
   "metadata": {},
   "outputs": [],
   "source": [
    "# Enter your code here. Read input from STDIN. Print output to STDOUT\n",
    "n = input()\n",
    "boots = map(int, raw_input().split())\n",
    "orders = [map(int, raw_input().split()) for _ in range(input())]\n",
    "result = 0\n",
    "for i in orders:\n",
    "    if i[0] in boots:\n",
    "        result += i[1]\n",
    "        boots.remove(i[0])\n",
    "print result"
   ]
  },
  {
   "cell_type": "markdown",
   "id": "2199d3b7",
   "metadata": {},
   "source": [
    "Check Strict Superset"
   ]
  },
  {
   "cell_type": "code",
   "execution_count": null,
   "id": "644ed4b3",
   "metadata": {},
   "outputs": [],
   "source": [
    "# Enter your code here. Read input from STDIN. Print output to STDOUT\n",
    "A = set(input().split())\n",
    "size = input()\n",
    "response = True\n",
    "for i in range(int(size)):\n",
    "    s1 = set(input().split())\n",
    "    if s1.union(A) == A and A != s1:\n",
    "        pass\n",
    "    else:\n",
    "        response = False\n",
    "print(response)"
   ]
  },
  {
   "cell_type": "markdown",
   "id": "4561731d",
   "metadata": {},
   "source": [
    "Check Subset"
   ]
  },
  {
   "cell_type": "code",
   "execution_count": null,
   "id": "fb33c89e",
   "metadata": {},
   "outputs": [],
   "source": [
    "# Enter your code here. Read input from STDIN. Print output to STDOUT\n",
    "cases = input()\n",
    "response = []\n",
    "for i in range(int(cases)):\n",
    "    size1 = input()\n",
    "    s1 = set(input().split())\n",
    "    size2 = input()\n",
    "    s2 = set(input().split())\n",
    "    if s1.union(s2) == s2:\n",
    "        print(True)\n",
    "    else:\n",
    "        print(False)"
   ]
  },
  {
   "cell_type": "markdown",
   "id": "009f8775",
   "metadata": {},
   "source": [
    "The Captain's Room"
   ]
  },
  {
   "cell_type": "code",
   "execution_count": null,
   "id": "eda8d868",
   "metadata": {},
   "outputs": [],
   "source": [
    "# Enter your code here. Read input from STDIN. Print output to STDOUT\n",
    "n = input()\n",
    "A = input().split()\n",
    "s1 = set()\n",
    "s2 = set()\n",
    "for i in A:\n",
    "    if i in s1:\n",
    "        s2.add(i)\n",
    "    else:\n",
    "        s1.add(i)\n",
    "s3 = s1.difference(s2)\n",
    "print(s3.pop())"
   ]
  },
  {
   "cell_type": "markdown",
   "id": "8601080c",
   "metadata": {},
   "source": [
    "Set Mutations"
   ]
  },
  {
   "cell_type": "code",
   "execution_count": null,
   "id": "5c29d0c2",
   "metadata": {},
   "outputs": [],
   "source": [
    "# Enter your code here. Read input from STDIN. Print output to STDOUT\n",
    "n,A,m = input(),set(input().split()),int(input())\n",
    "commands=[]\n",
    "sets = []\n",
    "for i in range(0,2*m):\n",
    "    if i %2==0:\n",
    "        commands.append(input().split())\n",
    "    else:\n",
    "        sets.append(set(input().split()))\n",
    "for i in range(0,len(commands)):\n",
    "    if commands[i][0] == 'intersection_update':\n",
    "        A.intersection_update(sets[i])\n",
    "    elif commands[i][0] == 'update':\n",
    "        A.update(sets[i])\n",
    "    elif commands[i][0] == 'symmetric_difference_update':\n",
    "        A.symmetric_difference_update(sets[i])\n",
    "    elif commands[i][0] == 'difference_update':\n",
    "        A.difference_update(sets[i])\n",
    "print(sum([int(x) for x in A]))\n"
   ]
  },
  {
   "cell_type": "markdown",
   "id": "d99c7681",
   "metadata": {},
   "source": [
    "Set .symmetric_difference() Operation"
   ]
  },
  {
   "cell_type": "code",
   "execution_count": null,
   "id": "392fcde4",
   "metadata": {},
   "outputs": [],
   "source": [
    "# Enter your code here. Read input from STDIN. Print output to STDOUT\n",
    "n_en,en_st = input(),set(input().split())\n",
    "n_fr,fr_st = input(),set(input().split())\n",
    "print(len(en_st^fr_st))\n"
   ]
  },
  {
   "cell_type": "markdown",
   "id": "5e08581c",
   "metadata": {},
   "source": [
    "Set .difference() Operation"
   ]
  },
  {
   "cell_type": "code",
   "execution_count": null,
   "id": "13c7cde2",
   "metadata": {},
   "outputs": [],
   "source": [
    "# Enter your code here. Read input from STDIN. Print output to STDOUT\n",
    "n_en,en_st = input(),set(input().split())\n",
    "n_fr,fr_st = input(),set(input().split())\n",
    "print(len(en_st-fr_st))\n"
   ]
  },
  {
   "cell_type": "markdown",
   "id": "394b721f",
   "metadata": {},
   "source": [
    "Set .intersection() Operation"
   ]
  },
  {
   "cell_type": "code",
   "execution_count": null,
   "id": "c342a04d",
   "metadata": {},
   "outputs": [],
   "source": [
    "# Enter your code here. Read input from STDIN. Print output to STDOUT\n",
    "n_en,en_st = input(),set(input().split())\n",
    "n_fr,fr_st = input(),set(input().split())\n",
    "print(len(en_st&fr_st))"
   ]
  },
  {
   "cell_type": "markdown",
   "id": "99cf5a91",
   "metadata": {},
   "source": [
    "Set .union() Operation"
   ]
  },
  {
   "cell_type": "code",
   "execution_count": null,
   "id": "59b1279a",
   "metadata": {},
   "outputs": [],
   "source": [
    "# Enter your code here. Read input from STDIN. Print output to STDOUT\n",
    "n_en,en_st = input(),set(input().split())\n",
    "n_fr,fr_st = input(),set(input().split())\n",
    "print(len(en_st|fr_st))"
   ]
  },
  {
   "cell_type": "markdown",
   "id": "e6191715",
   "metadata": {},
   "source": [
    "Set .discard(), .remove() & .pop()"
   ]
  },
  {
   "cell_type": "code",
   "execution_count": null,
   "id": "30daa152",
   "metadata": {},
   "outputs": [],
   "source": [
    "n = int(input())\n",
    "s = set(map(int, input().split()))\n",
    "m = input()\n",
    "l = []\n",
    "for i in range(int(m)):\n",
    "    l.append(input().split())\n",
    "flatl = [ item for elem in l for item in elem]\n",
    "for i in range(len(flatl)):\n",
    "    if flatl[i] == 'pop':\n",
    "        s.pop()\n",
    "    if flatl[i] == 'remove':\n",
    "        s.remove(int(flatl[i+1]))\n",
    "    if flatl[i] == 'discard':\n",
    "        s.discard(int(flatl[i+1]))\n",
    "        \n",
    "print(sum(s))\n"
   ]
  },
  {
   "cell_type": "markdown",
   "id": "9206dd9e",
   "metadata": {},
   "source": [
    "Set .add()"
   ]
  },
  {
   "cell_type": "code",
   "execution_count": null,
   "id": "6f2c0f5f",
   "metadata": {},
   "outputs": [],
   "source": [
    "# Enter your code here. Read input from STDIN. Print output to STDOUT\n",
    "num = input()\n",
    "Country = set()\n",
    "for i in range(int(num)):\n",
    "    Country.add(input())\n",
    "print (len(Country))"
   ]
  },
  {
   "cell_type": "markdown",
   "id": "3f8a5f35",
   "metadata": {},
   "source": [
    "No Idea!"
   ]
  },
  {
   "cell_type": "code",
   "execution_count": null,
   "id": "cd65b3c7",
   "metadata": {},
   "outputs": [],
   "source": [
    "# Enter your code here. Read input from STDIN. Print output to STDOUT\n",
    "n,m = input().split() \n",
    "array = input().split() \n",
    "set_a,set_b = set(input().split()),set(input().split()) \n",
    "h_count = 0\n",
    "for i in array: \n",
    "    if i in set_a and i not in set_b:\n",
    "        h_count += 1 \n",
    "        \n",
    "    if i in set_b and i not in set_a:\n",
    "        h_count -= 1 \n",
    "print(h_count)"
   ]
  },
  {
   "cell_type": "markdown",
   "id": "7c995ca6",
   "metadata": {},
   "source": [
    "Symmetric Difference"
   ]
  },
  {
   "cell_type": "code",
   "execution_count": null,
   "id": "ae67422e",
   "metadata": {},
   "outputs": [],
   "source": [
    "# Enter your code here. Read input from STDIN. Print output to STDOUT\n",
    "a,b=(int(input()),input().split())\n",
    "c,d=(int(input()),input().split())\n",
    "x=set(b)\n",
    "y=set(d)\n",
    "p=y.difference(x)\n",
    "q=x.difference(y)\n",
    "r=p.union(q)\n",
    "print ('\\n'.join(sorted(r, key=int)))"
   ]
  },
  {
   "cell_type": "markdown",
   "id": "fb648742",
   "metadata": {},
   "source": [
    "Introduction to Sets"
   ]
  },
  {
   "cell_type": "code",
   "execution_count": null,
   "id": "b4aefcd8",
   "metadata": {},
   "outputs": [],
   "source": [
    "def average(array):\n",
    "    s = set(arr)\n",
    "    return sum(s)/len(s)"
   ]
  },
  {
   "cell_type": "markdown",
   "id": "96f6b379",
   "metadata": {},
   "source": [
    "Merge the Tools!"
   ]
  },
  {
   "cell_type": "code",
   "execution_count": null,
   "id": "635c72c9",
   "metadata": {},
   "outputs": [],
   "source": [
    "def merge_the_tools(string, k):\n",
    "    for i in range(0,len(string), k):\n",
    "        line = string[i:i+k]\n",
    "        seen = set()\n",
    "        for i in line:\n",
    "            if i not in seen:\n",
    "                print(i,end=\"\")\n",
    "                seen.add(i)\n",
    "        print()\n",
    "#saw discussion for this                         \n"
   ]
  },
  {
   "cell_type": "markdown",
   "id": "d1291263",
   "metadata": {},
   "source": [
    "The Minion Game"
   ]
  },
  {
   "cell_type": "code",
   "execution_count": null,
   "id": "e4af15de",
   "metadata": {},
   "outputs": [],
   "source": [
    "def minion_game(string):\n",
    "    vowels = 'AEIOU'\n",
    "\n",
    "    kevsc = 0\n",
    "    stusc = 0\n",
    "    for i in range(len(s)):\n",
    "        if s[i] in vowels:\n",
    "            kevsc += (len(s)-i)\n",
    "        else:\n",
    "            stusc += (len(s)-i)\n",
    "\n",
    "    if kevsc > stusc:\n",
    "        print (\"Kevin\", kevsc)\n",
    "    elif kevsc < stusc:\n",
    "        print (\"Stuart\", stusc)\n",
    "    else:\n",
    "        print (\"Draw\")\n",
    "#saw the solution, been after the time out error for over one hour and a half\n"
   ]
  },
  {
   "cell_type": "markdown",
   "id": "455d47b0",
   "metadata": {},
   "source": [
    "Capitalize!"
   ]
  },
  {
   "cell_type": "code",
   "execution_count": null,
   "id": "a9286979",
   "metadata": {},
   "outputs": [],
   "source": [
    "\n",
    "\n",
    "# Complete the solve function below.\n",
    "def solve(s):\n",
    "    l = s.split()\n",
    "    for i in l:\n",
    "        s = s.replace(i,i.capitalize())\n",
    "    return s"
   ]
  },
  {
   "cell_type": "markdown",
   "id": "6ed6c4a2",
   "metadata": {},
   "source": [
    "String Formatting"
   ]
  },
  {
   "cell_type": "code",
   "execution_count": null,
   "id": "3f0c0d95",
   "metadata": {},
   "outputs": [],
   "source": [
    "def print_formatted(n):\n",
    "    width = len(format(n,'b'))\n",
    "    for i in range(1,n+1):\n",
    "        print (\"{0:{width}d} {0:{width}o} {0:{width}X} {0:{width}b}\".format(i, width=width))"
   ]
  },
  {
   "cell_type": "markdown",
   "id": "feac64bb",
   "metadata": {},
   "source": [
    "Text Wrap"
   ]
  },
  {
   "cell_type": "code",
   "execution_count": null,
   "id": "5ae0c43b",
   "metadata": {},
   "outputs": [],
   "source": [
    "\n",
    "\n",
    "def wrap(string, max_width):\n",
    "    s = \"\"\n",
    "    for i in range(0,len(string),max_width):\n",
    "        s += string[i:i+max_width] + \"\\n\"\n",
    "    return s"
   ]
  },
  {
   "cell_type": "markdown",
   "id": "92430606",
   "metadata": {},
   "source": [
    "Text Alignment"
   ]
  },
  {
   "cell_type": "code",
   "execution_count": null,
   "id": "da356c3f",
   "metadata": {},
   "outputs": [],
   "source": [
    "#Replace all ______ with rjust, ljust or center. \n",
    "\n",
    "thickness = int(input()) #This must be an odd number\n",
    "c = 'H'\n",
    "\n",
    "#Top Cone\n",
    "for i in range(thickness):\n",
    "    print((c*i).rjust(thickness-1)+c+(c*i).ljust(thickness-1))\n",
    "\n",
    "#Top Pillars\n",
    "for i in range(thickness+1):\n",
    "    print((c*thickness).center(thickness*2)+(c*thickness).center(thickness*6))\n",
    "\n",
    "#Middle Belt\n",
    "for i in range((thickness+1)//2):\n",
    "    print((c*thickness*5).center(thickness*6))    \n",
    "\n",
    "#Bottom Pillars\n",
    "for i in range(thickness+1):\n",
    "    print((c*thickness).center(thickness*2)+(c*thickness).center(thickness*6))    \n",
    "\n",
    "#Bottom Cone\n",
    "for i in range(thickness):\n",
    "    print(((c*(thickness-i-1)).rjust(thickness)+c+(c*(thickness-i-1)).ljust(thickness)).rjust(thickness*6))\n"
   ]
  },
  {
   "cell_type": "markdown",
   "id": "4dd9fe5e",
   "metadata": {},
   "source": [
    "String Validators"
   ]
  },
  {
   "cell_type": "code",
   "execution_count": null,
   "id": "976852c1",
   "metadata": {},
   "outputs": [],
   "source": [
    "if __name__ == '__main__':\n",
    "    s = input()\n",
    "\n",
    "\n",
    "a,b,c,d,e=False,False,False,False,False\n",
    "for i in s:\n",
    "    if i.isalnum():\n",
    "        a=True\n",
    "    if i.isalpha():\n",
    "        b=True\n",
    "    if i.isdigit():\n",
    "        c=True\n",
    "    if i.islower():\n",
    "        d=True\n",
    "    if i.isupper():\n",
    "        e=True\n",
    "print(a)\n",
    "print(b)\n",
    "print(c) \n",
    "print(d) \n",
    "print(e)\n"
   ]
  },
  {
   "cell_type": "markdown",
   "id": "47c37e2e",
   "metadata": {},
   "source": [
    "Find a string"
   ]
  },
  {
   "cell_type": "code",
   "execution_count": null,
   "id": "7f993634",
   "metadata": {},
   "outputs": [],
   "source": [
    "def count_substring(string, sub_string):\n",
    "    count = 0 \n",
    "    for i in range(len(string)):\n",
    "        if string[i:].startswith(sub_string):\n",
    "            count += 1\n",
    "    return count"
   ]
  },
  {
   "cell_type": "markdown",
   "id": "e5628390",
   "metadata": {},
   "source": [
    "Mutations"
   ]
  },
  {
   "cell_type": "code",
   "execution_count": null,
   "id": "16eba170",
   "metadata": {},
   "outputs": [],
   "source": [
    "def mutate_string(string, position, character):\n",
    "    a = list(string)\n",
    "    a[position] = character\n",
    "    string = ''.join(a)\n",
    "    return string\n",
    "\n"
   ]
  },
  {
   "cell_type": "markdown",
   "id": "3f124b53",
   "metadata": {},
   "source": [
    "What's Your Name?"
   ]
  },
  {
   "cell_type": "code",
   "execution_count": null,
   "id": "5837551c",
   "metadata": {},
   "outputs": [],
   "source": [
    "#\n",
    "# Complete the 'print_full_name' function below.\n",
    "#\n",
    "# The function is expected to return a STRING.\n",
    "# The function accepts following parameters:\n",
    "#  1. STRING first\n",
    "#  2. STRING last\n",
    "#\n",
    "\n",
    "def print_full_name(first, last):\n",
    "    print(\"Hello\",first,last+\"! You just delved into python.\")\n"
   ]
  },
  {
   "cell_type": "markdown",
   "id": "72ad1b01",
   "metadata": {},
   "source": [
    "String Split and Join"
   ]
  },
  {
   "cell_type": "code",
   "execution_count": null,
   "id": "f65e909b",
   "metadata": {},
   "outputs": [],
   "source": [
    "def split_and_join(line):\n",
    "    line = line.split(\" \")\n",
    "    line = \"-\".join(line)\n",
    "    return line\n",
    "\n"
   ]
  },
  {
   "cell_type": "markdown",
   "id": "0c743097",
   "metadata": {},
   "source": [
    "sWAP cASE"
   ]
  },
  {
   "cell_type": "code",
   "execution_count": null,
   "id": "77f6312a",
   "metadata": {},
   "outputs": [],
   "source": [
    "def swap_case(s):\n",
    "  \n",
    "    return s.swapcase()\n",
    "\n",
    "\n"
   ]
  },
  {
   "cell_type": "markdown",
   "id": "ca3b7f04",
   "metadata": {},
   "source": [
    "Tuples"
   ]
  },
  {
   "cell_type": "code",
   "execution_count": null,
   "id": "e62161b3",
   "metadata": {},
   "outputs": [],
   "source": [
    "if __name__ == '__main__':\n",
    "    n = int(raw_input())\n",
    "    integer_list = map(int, raw_input().split())\n",
    "    t = tuple(integer_list)\n",
    "    print(hash(t))\n"
   ]
  },
  {
   "cell_type": "markdown",
   "id": "824b4046",
   "metadata": {},
   "source": [
    "Lists"
   ]
  },
  {
   "cell_type": "code",
   "execution_count": null,
   "id": "472f7d7b",
   "metadata": {},
   "outputs": [],
   "source": [
    "if __name__ == '__main__':\n",
    "    N = int(input())\n",
    "\n",
    "    l=[]\n",
    "    for _ in range(N):\n",
    "        cmd=input().strip().split(\" \")\n",
    "        if cmd[0]==\"insert\":\n",
    "            l.insert(int(cmd[1]),int(cmd[2]))\n",
    "        if cmd[0]==\"print\":\n",
    "            print(l)\n",
    "        if cmd[0]==\"remove\":\n",
    "            l.remove(int(cmd[1]))\n",
    "        if cmd[0]==\"append\":\n",
    "            l.append(int(cmd[1]))\n",
    "        if cmd[0]==\"sort\":\n",
    "            l.sort()\n",
    "        if cmd[0]==\"pop\":\n",
    "            l.pop()\n",
    "        if cmd[0]==\"reverse\":\n",
    "            l.reverse()\n"
   ]
  },
  {
   "cell_type": "markdown",
   "id": "493bef61",
   "metadata": {},
   "source": [
    "Finding the percentage"
   ]
  },
  {
   "cell_type": "code",
   "execution_count": null,
   "id": "88093918",
   "metadata": {},
   "outputs": [],
   "source": [
    "if __name__ == '__main__':\n",
    "    n = int(input())\n",
    "    student_marks = {}\n",
    "    for _ in range(n):\n",
    "        name, *line = input().split()\n",
    "        scores = list(map(float, line))\n",
    "        student_marks[name] = scores\n",
    "    query_name = input()\n",
    "average = 0\n",
    "l = list(student_marks[query_name])\n",
    "avg = sum(l)\n",
    "(average) += avg/3\n",
    "\n",
    "print('%.2f'%average)"
   ]
  },
  {
   "cell_type": "markdown",
   "id": "69837a04",
   "metadata": {},
   "source": [
    "List Comprehensions"
   ]
  },
  {
   "cell_type": "code",
   "execution_count": null,
   "id": "655d5e75",
   "metadata": {},
   "outputs": [],
   "source": [
    "if __name__ == '__main__':\n",
    "    x = int(raw_input())\n",
    "    y = int(raw_input())\n",
    "    z = int(raw_input())\n",
    "    n = int(raw_input())\n",
    "  \n",
    "print([[a,b,c] for a in range(0,x+1) for b in range(0,y+1) for c in range(0,z+1) if a+b+c !=n])\n"
   ]
  },
  {
   "cell_type": "markdown",
   "id": "959d0140",
   "metadata": {},
   "source": [
    "Find the Runner-Up Score!"
   ]
  },
  {
   "cell_type": "code",
   "execution_count": null,
   "id": "5748bd24",
   "metadata": {},
   "outputs": [],
   "source": [
    "if __name__ == '__main__':\n",
    "    n = int(raw_input())\n",
    "    arr = map(int, raw_input().split())\n",
    "    #M = 0\n",
    "    #for i in arr:\n",
    "     #   if i>=M:\n",
    "      #      M = i\n",
    "M = max(arr)\n",
    "t = 0\n",
    "for i in arr:\n",
    "    if i == M:\n",
    "        t += 1\n",
    "for i in range(t):\n",
    "    arr.remove(max(arr))\n",
    "print (max(arr))"
   ]
  },
  {
   "cell_type": "markdown",
   "id": "8c52cca9",
   "metadata": {},
   "source": [
    "Write a function"
   ]
  },
  {
   "cell_type": "code",
   "execution_count": null,
   "id": "c4037d4d",
   "metadata": {},
   "outputs": [],
   "source": [
    "def is_leap(year):\n",
    "    leap = False\n",
    "    if year % 4 == 0 and not year % 100 == 0 or year % 100 == 0 and year % 400 == 0:\n",
    "        leap = True\n",
    "    # Write your logic here\n",
    "    \n",
    "    return leap\n",
    "\n"
   ]
  },
  {
   "cell_type": "markdown",
   "id": "c1825bed",
   "metadata": {},
   "source": [
    "Print Function"
   ]
  },
  {
   "cell_type": "code",
   "execution_count": null,
   "id": "3adffb49",
   "metadata": {},
   "outputs": [],
   "source": [
    "from __future__ import print_function\n",
    "\n",
    "if __name__ == '__main__':\n",
    "    n = int(raw_input())\n",
    "\n",
    "for i in range (1,n+1):\n",
    "    print(i,end=\"\")"
   ]
  },
  {
   "cell_type": "markdown",
   "id": "a90adce9",
   "metadata": {},
   "source": [
    "Loops"
   ]
  },
  {
   "cell_type": "code",
   "execution_count": null,
   "id": "7a921244",
   "metadata": {},
   "outputs": [],
   "source": [
    "if __name__ == '__main__':\n",
    "    n = int(raw_input())\n",
    "for i in range(0,n):\n",
    "    print(i**2)\n"
   ]
  },
  {
   "cell_type": "markdown",
   "id": "b778bb25",
   "metadata": {},
   "source": [
    "Python: Division"
   ]
  },
  {
   "cell_type": "code",
   "execution_count": null,
   "id": "eb2e91d8",
   "metadata": {},
   "outputs": [],
   "source": [
    "from __future__ import division\n",
    "\n",
    "if __name__ == '__main__':\n",
    "    a = int(raw_input())\n",
    "    b = int(raw_input())\n",
    "\n",
    "print(a//b)\n",
    "print(a/b)\n"
   ]
  },
  {
   "cell_type": "markdown",
   "id": "97e203a9",
   "metadata": {},
   "source": [
    "Arithmetic Operators"
   ]
  },
  {
   "cell_type": "code",
   "execution_count": null,
   "id": "d63b8ed6",
   "metadata": {},
   "outputs": [],
   "source": [
    "if __name__ == '__main__':\n",
    "    a = int(raw_input())\n",
    "    b = int(raw_input())\n",
    "print(a+b)\n",
    "print(a-b)\n",
    "print(a*b)\n"
   ]
  },
  {
   "cell_type": "markdown",
   "id": "3fe74bc4",
   "metadata": {},
   "source": [
    "Python If-Else"
   ]
  },
  {
   "cell_type": "code",
   "execution_count": null,
   "id": "b19eac47",
   "metadata": {},
   "outputs": [],
   "source": [
    "#!/bin/python\n",
    "\n",
    "import math\n",
    "import os\n",
    "import random\n",
    "import re\n",
    "import sys\n",
    "\n",
    "\n",
    "\n",
    "if __name__ == '__main__':\n",
    "    n = int(raw_input().strip())\n",
    "if n % 2 == 1:\n",
    "    print('Weird')\n",
    "elif n % 2 == 0 and n>= 2 and n<=5:\n",
    "    print('Not Weird')\n",
    "elif n % 2 == 0 and n>= 6 and n<=20:\n",
    "    print('Weird')\n",
    "elif n % 2 == 0 and n> 20 :\n",
    "    print('Not Weird')\n"
   ]
  },
  {
   "cell_type": "markdown",
   "id": "63e99586",
   "metadata": {},
   "source": [
    "Say \"Hello, World!\" With Python"
   ]
  },
  {
   "cell_type": "code",
   "execution_count": null,
   "id": "184838ba",
   "metadata": {},
   "outputs": [],
   "source": [
    "if __name__ == '__main__':\n",
    "    print \"Hello, World!\"\n"
   ]
  }
 ],
 "metadata": {
  "kernelspec": {
   "display_name": "Python 3 (ipykernel)",
   "language": "python",
   "name": "python3"
  },
  "language_info": {
   "codemirror_mode": {
    "name": "ipython",
    "version": 3
   },
   "file_extension": ".py",
   "mimetype": "text/x-python",
   "name": "python",
   "nbconvert_exporter": "python",
   "pygments_lexer": "ipython3",
   "version": "3.8.2"
  }
 },
 "nbformat": 4,
 "nbformat_minor": 5
}
